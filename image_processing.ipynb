{
 "cells": [
  {
   "cell_type": "code",
   "execution_count": 2,
   "metadata": {},
   "outputs": [],
   "source": [
    "from matplotlib import pyplot as plt\n",
    "import numpy as np\n",
    "from PIL import Image\n",
    "from scipy import spatial\n",
    "loc = \"H:\\\\PGA10_Python\\\\part-2\\\\img_data\""
   ]
  },
  {
   "cell_type": "code",
   "execution_count": 30,
   "metadata": {},
   "outputs": [],
   "source": [
    "def process_image(img_path, name):\n",
    "    im = Image.open(img_path); #open the image\n",
    "    im.thumbnail((100,100)); #resizing\n",
    "    im.save(loc + \"/processed/\"+ name + \"_cl.jpg\", \"JPEG\"); #define save location\n",
    "    im_array = np.array(im); #save resized image as np array\n",
    "    \n",
    "    # open new text file to store cl image array\n",
    "    with open(\"imgfile_cl.txt\",\"w\") as ifile:\n",
    "        for row in im_array:\n",
    "            ifile.write(str(row)+\"\\n\")\n",
    "    \n",
    "    #greyscale\n",
    "    im = im.convert('L'); #convet to grey scale image\n",
    "    im.save(loc + \"/processed/\"+ name + \"_gs.jpg\", \"JPEG\")\n",
    "    im_array = np.array(im)\n",
    "    \n",
    "    with open(\"imgfile_gs.txt\",\"w\") as ifile:\n",
    "        for row in im_array:\n",
    "            ifile.write(str(row)+\"\\n\")\n",
    "    \n",
    "#     #bw\n",
    "#     im_array[im_array>200] = 0; #convert to bw\n",
    "#     im_array[im_array>0] = 1; #convert to bw\n",
    "#     im = Image.fromarray(im_array)\n",
    "#     im.save(loc + \"/processed/\"+ name +\"_bw.jpg\", \"JPEG\")\n",
    "\n",
    "#     with open(\"imgfile_bw.txt\",\"w\") as ifile:\n",
    "#         for row in im_array:\n",
    "#             ifile.write(str(row)+\"\\n\")\n",
    "\n",
    "    return im_array"
   ]
  },
  {
   "cell_type": "code",
   "execution_count": 32,
   "metadata": {},
   "outputs": [],
   "source": [
    "def get_hist_vec(a, i):   \n",
    "    bins = [j for j in range(0,255,i)]; \n",
    "#     print(\"bins: \", bins); print(\"\")\n",
    "    \n",
    "    vec_a = np.histogram(a, bins=bins)[0]; \n",
    "#     print(\"hist vec: \", vec_a); print(\"\"); \n",
    "#     print(\"vec len: \", len(vec_a))\n",
    "    \n",
    "    return vec_a"
   ]
  },
  {
   "cell_type": "code",
   "execution_count": 8,
   "metadata": {},
   "outputs": [],
   "source": [
    "def cosin_sim(vec_a, vec_b):\n",
    "    cosine = 1 - spatial.distance.cosine(vec_a,vec_b)\n",
    "    return cosine"
   ]
  },
  {
   "cell_type": "code",
   "execution_count": 55,
   "metadata": {},
   "outputs": [],
   "source": [
    "r=10"
   ]
  },
  {
   "cell_type": "code",
   "execution_count": 56,
   "metadata": {},
   "outputs": [],
   "source": [
    "a1 = process_image(loc+\"/apple1.jpg\", \"a1\")\n",
    "vec_a1 = get_hist_vec(a1, r)"
   ]
  },
  {
   "cell_type": "code",
   "execution_count": 57,
   "metadata": {},
   "outputs": [],
   "source": [
    "a2 = process_image(loc+\"/apple2.jpg\", \"a2\")\n",
    "vec_a2 = get_hist_vec(a2, r)"
   ]
  },
  {
   "cell_type": "code",
   "execution_count": 58,
   "metadata": {},
   "outputs": [],
   "source": [
    "o1 = process_image(loc+\"/orange1.jpg\", \"o1\")\n",
    "vec_o1 = get_hist_vec(o1, r)"
   ]
  },
  {
   "cell_type": "code",
   "execution_count": 59,
   "metadata": {},
   "outputs": [
    {
     "data": {
      "text/plain": [
       "0.8852585552217502"
      ]
     },
     "execution_count": 59,
     "metadata": {},
     "output_type": "execute_result"
    }
   ],
   "source": [
    "cosin_sim(vec_a1, vec_a2)"
   ]
  },
  {
   "cell_type": "code",
   "execution_count": 60,
   "metadata": {},
   "outputs": [
    {
     "data": {
      "text/plain": [
       "0.6691126109564711"
      ]
     },
     "execution_count": 60,
     "metadata": {},
     "output_type": "execute_result"
    }
   ],
   "source": [
    "cosin_sim(vec_a1, vec_o1)"
   ]
  },
  {
   "cell_type": "code",
   "execution_count": 65,
   "metadata": {},
   "outputs": [],
   "source": [
    "from skimage import data, img_as_float\n",
    "from skimage import measure\n",
    "\n",
    "def img_compare(a, b):\n",
    "    sim = measure.compare_ssim(a, b)\n",
    "    return sim"
   ]
  },
  {
   "cell_type": "code",
   "execution_count": 101,
   "metadata": {},
   "outputs": [],
   "source": [
    "a1 = process_image(loc+\"/apple1.jpg\", \"a1\")"
   ]
  },
  {
   "cell_type": "code",
   "execution_count": 70,
   "metadata": {},
   "outputs": [
    {
     "name": "stdout",
     "output_type": "stream",
     "text": [
      "(100, 100)\n"
     ]
    }
   ],
   "source": [
    "rows, cols = a1.shape; print(a1.shape)"
   ]
  },
  {
   "cell_type": "code",
   "execution_count": 113,
   "metadata": {},
   "outputs": [],
   "source": [
    "noise = np.ones_like(a1) * 0.2 * (a1.max() - a1.min())\n",
    "noise[np.random.random(size=noise.shape) > 0.5] *= -1"
   ]
  },
  {
   "cell_type": "code",
   "execution_count": 114,
   "metadata": {},
   "outputs": [],
   "source": [
    "img_noise = a1 + noise\n",
    "img_const = a1 + abs(noise)\n",
    "# im = Image.fromarray(img_noise)\n",
    "# im.save(loc + \"/processed/\"+ \"a1\" +\"_noise.jpg\")"
   ]
  },
  {
   "cell_type": "code",
   "execution_count": 115,
   "metadata": {},
   "outputs": [
    {
     "name": "stdout",
     "output_type": "stream",
     "text": [
      "with noise:  0.20981095301908914\n",
      "with const:  0.9639433793809314\n"
     ]
    }
   ],
   "source": [
    "ssim_noise = img_compare(a1, img_noise)\n",
    "print(\"with noise: \", ssim_noise)\n",
    "\n",
    "ssim_const = img_compare(a1, img_const)\n",
    "print(\"with const: \", ssim_const)"
   ]
  },
  {
   "cell_type": "code",
   "execution_count": 116,
   "metadata": {},
   "outputs": [],
   "source": [
    "vec_an = get_hist_vec(img_noise, r)\n",
    "vec_a1 = get_hist_vec(a1, r)"
   ]
  },
  {
   "cell_type": "code",
   "execution_count": 117,
   "metadata": {},
   "outputs": [
    {
     "name": "stdout",
     "output_type": "stream",
     "text": [
      "0.5966928176136669\n",
      "0.8852585552217502\n"
     ]
    }
   ],
   "source": [
    "print(cosin_sim(vec_an, vec_a2))\n",
    "print(cosin_sim(vec_a1, vec_a2))"
   ]
  }
 ],
 "metadata": {
  "kernelspec": {
   "display_name": "Python 3",
   "language": "python",
   "name": "python3"
  },
  "language_info": {
   "codemirror_mode": {
    "name": "ipython",
    "version": 3
   },
   "file_extension": ".py",
   "mimetype": "text/x-python",
   "name": "python",
   "nbconvert_exporter": "python",
   "pygments_lexer": "ipython3",
   "version": "3.7.3"
  }
 },
 "nbformat": 4,
 "nbformat_minor": 2
}
