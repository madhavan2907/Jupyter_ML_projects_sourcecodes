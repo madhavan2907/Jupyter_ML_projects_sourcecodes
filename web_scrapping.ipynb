{
 "cells": [
  {
   "cell_type": "code",
   "execution_count": 124,
   "metadata": {},
   "outputs": [],
   "source": [
    "import urllib.request\n",
    "import requests\n",
    "from bs4 import BeautifulSoup\n",
    "# url = \"https://www.olx.in/chennai_g4059162/q-cars?pg=2\"\n",
    "url = \"https://www.olx.in/chennai_g4059162/q-smartphones?pg=1\""
   ]
  },
  {
   "cell_type": "code",
   "execution_count": 125,
   "metadata": {},
   "outputs": [],
   "source": [
    "# response = urllib.request.urlopen(url)\n",
    "response = requests.get(url)\n",
    "content = str(response.content)"
   ]
  },
  {
   "cell_type": "code",
   "execution_count": 126,
   "metadata": {},
   "outputs": [
    {
     "name": "stdout",
     "output_type": "stream",
     "text": [
      "284310\n"
     ]
    }
   ],
   "source": [
    "with open(\"content.txt\", \"w\") as web:\n",
    "    web.write(content)\n",
    "print(len(content))"
   ]
  },
  {
   "cell_type": "code",
   "execution_count": 127,
   "metadata": {},
   "outputs": [
    {
     "name": "stdout",
     "output_type": "stream",
     "text": [
      "94\n"
     ]
    }
   ],
   "source": [
    "#split by <li\n",
    "content_list = content.split(\"<li\")\n",
    "print(len(content_list))"
   ]
  },
  {
   "cell_type": "code",
   "execution_count": 128,
   "metadata": {},
   "outputs": [
    {
     "name": "stdout",
     "output_type": "stream",
     "text": [
      "18\n"
     ]
    }
   ],
   "source": [
    "#filter class / span id\n",
    "car_content = [content for content in content_list if \"_89yzn\" in content]\n",
    "print(len(car_content))"
   ]
  },
  {
   "cell_type": "code",
   "execution_count": 129,
   "metadata": {},
   "outputs": [],
   "source": [
    "import re\n",
    "\n",
    "def cleanhtml(raw_html):\n",
    "    cleanr = re.compile('<.*?>')\n",
    "    cleantext = re.sub(cleanr, ' || ', raw_html)\n",
    "    return cleantext\n"
   ]
  },
  {
   "cell_type": "code",
   "execution_count": 130,
   "metadata": {},
   "outputs": [],
   "source": [
    "def word_mix(w):\n",
    "    mix=\"\"\n",
    "    for c in w:\n",
    "        if c.isalpha():\n",
    "            mix=mix+\" \"+\"a\"\n",
    "        elif c.isdigit():\n",
    "            mix=mix+\" \"+\"n\"\n",
    "        else:\n",
    "            mix=mix+\" \"+c\n",
    "    mix = set(mix.split())\n",
    "    return mix\n",
    "    \n"
   ]
  },
  {
   "cell_type": "code",
   "execution_count": 131,
   "metadata": {},
   "outputs": [],
   "source": [
    "def start_word(txt):\n",
    "    sw=\"\"\n",
    "    for w in txt.split():\n",
    "        if word_mix(w) == {',', 'n'}:\n",
    "            sw = w\n",
    "            break\n",
    "    return sw"
   ]
  },
  {
   "cell_type": "code",
   "execution_count": 132,
   "metadata": {},
   "outputs": [],
   "source": [
    "def parser(content):\n",
    "    cleaned = cleanhtml(content)\n",
    "    sw = start_word(cleaned)\n",
    "    sliced = cleaned[cleaned.find(sw):]\n",
    "    output = [info.strip() for info in sliced.split(\"||\") if info.strip()!='']\n",
    "    return output"
   ]
  },
  {
   "cell_type": "code",
   "execution_count": 133,
   "metadata": {},
   "outputs": [
    {
     "name": "stdout",
     "output_type": "stream",
     "text": [
      "['1,600', 'Lg L70 smartphone', 'Chennai Central, Chennai', '4 days ago']\n",
      "\n",
      "['14,600', 'Drop proof Water proof Dust proof smartphone BLACKVIEW 5500', 'Nungambakkam Poonangi Puram, Chennai', '5 days ago']\n",
      "\n",
      "['14,500', 'Drop proof, Water proof ,Dust proof smartphone Exchange iPhones', 'Nungambakkam Haddows, Chennai', 'Sep 7']\n",
      "\n",
      "['4,000', 'Le eco 2 (letv2) lightly used smartphone Mint Condition *PRICE FIXED*', 'Egmore Railway Colony, Chennai', 'Sep 5']\n",
      "\n",
      "['9,999', 'Samsung galaxy note 5 / 4G LTE smartphone', 'Chennai Central, Chennai', 'Sep 4']\n",
      "\n",
      "['1,000', 'Smartphones', 'Velalla Purasawalkam, Chennai', 'Aug 21']\n",
      "\n",
      "['data-aut-id=\"itemBox\" class=\"EIR5N\">', '\\\\xe2\\\\x82\\\\xb9 520', 'I7 TWS Bluetooth airpods for all smartphone', 'Peravallur, Chennai', '3 days ago']\n",
      "\n",
      "['14,600', 'Rugged smartphone Drop proof Water proof', 'Choolaimedu Sri Ramapuram, Chennai', 'Sep 9']\n",
      "\n",
      "['10,000', 'Selling My smartphone', 'Madhavaram Milk Colony, Chennai', 'Sep 7']\n",
      "\n",
      "['1,400', 'Smart watches Waterproof Sports for smartphone, GPS, Touch Health band', 'T Nagar, Chennai', 'Sep 5']\n",
      "\n",
      "['2,200', 'Fujifilm instax share smartphone printer only @2200', 'Peravallur KC Garden, Chennai', 'Sep 4']\n",
      "\n",
      "['3,999', 'VIDEOCON V406018 NEW 4G smartphone AT LOW PRICE', 'Nesapakkam Kanu Nagar, Chennai', 'Aug 27']\n",
      "\n",
      "['6,000', 'Unique poly carbonate smartphone', 'Kolathur Lakshmi Puram, Chennai', 'Aug 25']\n",
      "\n",
      "['8,000', 'Samsung J6 model smartphone', 'Ponniammanmedu Thanikachalam Nagar, Chennai', 'Aug 19']\n",
      "\n",
      "['6,500', 'Samsung J7 Nxt Android Smartphone', 'Porur, Chennai', 'Yesterday']\n",
      "\n",
      "['1,800', 'Smartphone', 'Maduravoyal, Chennai', 'Yesterday']\n",
      "\n",
      "['3,000', 'Nokia 1 smartphone', 'Chromepet Nagappa Nagar, Chennai', '4 days ago']\n",
      "\n",
      "['2,990', 'Karbonn A1 Indian 4G smartphone, Brand new Open box but unused', 'Sholinganallur, Chennai', 'Sep 4', 'load more', 'Popular Locations']\n",
      "\n"
     ]
    }
   ],
   "source": [
    "with open(\"output_mobiles1.txt\",\"w\") as f:\n",
    "    for i in range(len(car_content)):\n",
    "        data = parser(car_content[i]); print(data); print(\"\")\n",
    "        f.write(str(data)+\"\\n\")"
   ]
  }
 ],
 "metadata": {
  "kernelspec": {
   "display_name": "Python 3",
   "language": "python",
   "name": "python3"
  },
  "language_info": {
   "codemirror_mode": {
    "name": "ipython",
    "version": 3
   },
   "file_extension": ".py",
   "mimetype": "text/x-python",
   "name": "python",
   "nbconvert_exporter": "python",
   "pygments_lexer": "ipython3",
   "version": "3.7.3"
  }
 },
 "nbformat": 4,
 "nbformat_minor": 2
}
